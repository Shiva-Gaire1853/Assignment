{
 "cells": [
  {
   "cell_type": "code",
   "execution_count": 1,
   "id": "66b2ab55",
   "metadata": {},
   "outputs": [],
   "source": [
    "import numpy as np\n",
    "import pandas as pd\n",
    "import seaborn as sns\n",
    "import matplotlib.pyplot as plt"
   ]
  },
  {
   "cell_type": "code",
   "execution_count": 2,
   "id": "3d82f465",
   "metadata": {},
   "outputs": [],
   "source": [
    "df = pd.read_csv('Stats survey.csv')"
   ]
  },
  {
   "cell_type": "code",
   "execution_count": 3,
   "id": "54a17150",
   "metadata": {},
   "outputs": [
    {
     "data": {
      "text/html": [
       "<div>\n",
       "<style scoped>\n",
       "    .dataframe tbody tr th:only-of-type {\n",
       "        vertical-align: middle;\n",
       "    }\n",
       "\n",
       "    .dataframe tbody tr th {\n",
       "        vertical-align: top;\n",
       "    }\n",
       "\n",
       "    .dataframe thead th {\n",
       "        text-align: right;\n",
       "    }\n",
       "</style>\n",
       "<table border=\"1\" class=\"dataframe\">\n",
       "  <thead>\n",
       "    <tr style=\"text-align: right;\">\n",
       "      <th></th>\n",
       "      <th>Timestamp</th>\n",
       "      <th>Your Sex?</th>\n",
       "      <th>Your Matric (grade 12) Average/ GPA (in %)</th>\n",
       "      <th>What year were you in last year (2023) ?</th>\n",
       "      <th>What faculty does your degree fall under?</th>\n",
       "      <th>Your 2023 academic year average/GPA in % (Ignore if you are 2024 1st year student)</th>\n",
       "      <th>Your Accommodation Status Last Year (2023)</th>\n",
       "      <th>Monthly Allowance in 2023</th>\n",
       "      <th>Were you on scholarship/bursary in 2023?</th>\n",
       "      <th>Additional amount of studying (in hrs) per week</th>\n",
       "      <th>How often do you go out partying/socialising during the week?</th>\n",
       "      <th>On a night out, how many alcoholic drinks do you consume?</th>\n",
       "      <th>How many classes do you miss per week due to alcohol reasons, (i.e: being hungover or too tired?)</th>\n",
       "      <th>How many modules have you failed thus far into your studies?</th>\n",
       "      <th>Are you currently in a romantic relationship?</th>\n",
       "      <th>Do your parents approve alcohol consumption?</th>\n",
       "      <th>How strong is your relationship with your parent/s?</th>\n",
       "    </tr>\n",
       "  </thead>\n",
       "  <tbody>\n",
       "    <tr>\n",
       "      <th>248</th>\n",
       "      <td>2024/03/07 10:53:04 pm EET</td>\n",
       "      <td>Male</td>\n",
       "      <td>84.0</td>\n",
       "      <td>1st Year</td>\n",
       "      <td>Science</td>\n",
       "      <td>76.0</td>\n",
       "      <td>Private accommodation/ stay with family/friends</td>\n",
       "      <td>R 7001 - R 8000</td>\n",
       "      <td>No</td>\n",
       "      <td>8+</td>\n",
       "      <td>1</td>\n",
       "      <td>3-5</td>\n",
       "      <td>2</td>\n",
       "      <td>0</td>\n",
       "      <td>No</td>\n",
       "      <td>Yes</td>\n",
       "      <td>Very close</td>\n",
       "    </tr>\n",
       "    <tr>\n",
       "      <th>27</th>\n",
       "      <td>2024/03/07 5:17:09 pm EET</td>\n",
       "      <td>Male</td>\n",
       "      <td>79.0</td>\n",
       "      <td>2nd Year</td>\n",
       "      <td>Engineering</td>\n",
       "      <td>60.0</td>\n",
       "      <td>Private accommodation/ stay with family/friends</td>\n",
       "      <td>R 8000+</td>\n",
       "      <td>No</td>\n",
       "      <td>5-8</td>\n",
       "      <td>Only weekends</td>\n",
       "      <td>8+</td>\n",
       "      <td>1</td>\n",
       "      <td>3</td>\n",
       "      <td>No</td>\n",
       "      <td>Yes</td>\n",
       "      <td>Very close</td>\n",
       "    </tr>\n",
       "    <tr>\n",
       "      <th>244</th>\n",
       "      <td>2024/03/07 10:31:42 pm EET</td>\n",
       "      <td>Female</td>\n",
       "      <td>75.0</td>\n",
       "      <td>1st Year</td>\n",
       "      <td>Economic &amp; Management Sciences</td>\n",
       "      <td>60.0</td>\n",
       "      <td>Private accommodation/ stay with family/friends</td>\n",
       "      <td>R 4001- R 5000</td>\n",
       "      <td>Yes (NSFAS, etc...)</td>\n",
       "      <td>3-5</td>\n",
       "      <td>Only weekends</td>\n",
       "      <td>1-3</td>\n",
       "      <td>0</td>\n",
       "      <td>0</td>\n",
       "      <td>Yes</td>\n",
       "      <td>No</td>\n",
       "      <td>Close</td>\n",
       "    </tr>\n",
       "    <tr>\n",
       "      <th>100</th>\n",
       "      <td>2024/03/07 5:59:04 pm EET</td>\n",
       "      <td>Male</td>\n",
       "      <td>78.0</td>\n",
       "      <td>2nd Year</td>\n",
       "      <td>Economic &amp; Management Sciences</td>\n",
       "      <td>62.0</td>\n",
       "      <td>Private accommodation/ stay with family/friends</td>\n",
       "      <td>R 5001 - R 6000</td>\n",
       "      <td>No</td>\n",
       "      <td>8+</td>\n",
       "      <td>1</td>\n",
       "      <td>5-8</td>\n",
       "      <td>1</td>\n",
       "      <td>1</td>\n",
       "      <td>No</td>\n",
       "      <td>Yes</td>\n",
       "      <td>Very close</td>\n",
       "    </tr>\n",
       "    <tr>\n",
       "      <th>235</th>\n",
       "      <td>2024/03/07 10:07:26 pm EET</td>\n",
       "      <td>Female</td>\n",
       "      <td>68.0</td>\n",
       "      <td>1st Year</td>\n",
       "      <td>Economic &amp; Management Sciences</td>\n",
       "      <td>55.0</td>\n",
       "      <td>Private accommodation/ stay with family/friends</td>\n",
       "      <td>R 4001- R 5000</td>\n",
       "      <td>Yes (NSFAS, etc...)</td>\n",
       "      <td>3-5</td>\n",
       "      <td>0</td>\n",
       "      <td>0</td>\n",
       "      <td>0</td>\n",
       "      <td>1</td>\n",
       "      <td>No</td>\n",
       "      <td>No</td>\n",
       "      <td>Very close</td>\n",
       "    </tr>\n",
       "  </tbody>\n",
       "</table>\n",
       "</div>"
      ],
      "text/plain": [
       "                      Timestamp Your Sex?  \\\n",
       "248  2024/03/07 10:53:04 pm EET      Male   \n",
       "27    2024/03/07 5:17:09 pm EET      Male   \n",
       "244  2024/03/07 10:31:42 pm EET    Female   \n",
       "100   2024/03/07 5:59:04 pm EET      Male   \n",
       "235  2024/03/07 10:07:26 pm EET    Female   \n",
       "\n",
       "     Your Matric (grade 12) Average/ GPA (in %)  \\\n",
       "248                                        84.0   \n",
       "27                                         79.0   \n",
       "244                                        75.0   \n",
       "100                                        78.0   \n",
       "235                                        68.0   \n",
       "\n",
       "    What year were you in last year (2023) ?  \\\n",
       "248                                 1st Year   \n",
       "27                                  2nd Year   \n",
       "244                                 1st Year   \n",
       "100                                 2nd Year   \n",
       "235                                 1st Year   \n",
       "\n",
       "    What faculty does your degree fall under?  \\\n",
       "248                                   Science   \n",
       "27                                Engineering   \n",
       "244            Economic & Management Sciences   \n",
       "100            Economic & Management Sciences   \n",
       "235            Economic & Management Sciences   \n",
       "\n",
       "     Your 2023 academic year average/GPA in % (Ignore if you are 2024 1st year student)  \\\n",
       "248                                               76.0                                    \n",
       "27                                                60.0                                    \n",
       "244                                               60.0                                    \n",
       "100                                               62.0                                    \n",
       "235                                               55.0                                    \n",
       "\n",
       "          Your Accommodation Status Last Year (2023)  \\\n",
       "248  Private accommodation/ stay with family/friends   \n",
       "27   Private accommodation/ stay with family/friends   \n",
       "244  Private accommodation/ stay with family/friends   \n",
       "100  Private accommodation/ stay with family/friends   \n",
       "235  Private accommodation/ stay with family/friends   \n",
       "\n",
       "    Monthly Allowance in 2023 Were you on scholarship/bursary in 2023?  \\\n",
       "248           R 7001 - R 8000                                       No   \n",
       "27                    R 8000+                                       No   \n",
       "244            R 4001- R 5000                      Yes (NSFAS, etc...)   \n",
       "100           R 5001 - R 6000                                       No   \n",
       "235            R 4001- R 5000                      Yes (NSFAS, etc...)   \n",
       "\n",
       "    Additional amount of studying (in hrs) per week  \\\n",
       "248                                              8+   \n",
       "27                                              5-8   \n",
       "244                                             3-5   \n",
       "100                                              8+   \n",
       "235                                             3-5   \n",
       "\n",
       "    How often do you go out partying/socialising during the week?   \\\n",
       "248                                                  1               \n",
       "27                                       Only weekends               \n",
       "244                                      Only weekends               \n",
       "100                                                  1               \n",
       "235                                                  0               \n",
       "\n",
       "    On a night out, how many alcoholic drinks do you consume?  \\\n",
       "248                                                3-5          \n",
       "27                                                  8+          \n",
       "244                                                1-3          \n",
       "100                                                5-8          \n",
       "235                                                  0          \n",
       "\n",
       "    How many classes do you miss per week due to alcohol reasons, (i.e: being hungover or too tired?)  \\\n",
       "248                                                  2                                                  \n",
       "27                                                   1                                                  \n",
       "244                                                  0                                                  \n",
       "100                                                  1                                                  \n",
       "235                                                  0                                                  \n",
       "\n",
       "    How many modules have you failed thus far into your studies?  \\\n",
       "248                                                  0             \n",
       "27                                                   3             \n",
       "244                                                  0             \n",
       "100                                                  1             \n",
       "235                                                  1             \n",
       "\n",
       "    Are you currently in a romantic relationship?  \\\n",
       "248                                            No   \n",
       "27                                             No   \n",
       "244                                           Yes   \n",
       "100                                            No   \n",
       "235                                            No   \n",
       "\n",
       "    Do your parents approve alcohol consumption?  \\\n",
       "248                                          Yes   \n",
       "27                                           Yes   \n",
       "244                                           No   \n",
       "100                                          Yes   \n",
       "235                                           No   \n",
       "\n",
       "    How strong is your relationship with your parent/s?  \n",
       "248                                         Very close   \n",
       "27                                          Very close   \n",
       "244                                              Close   \n",
       "100                                         Very close   \n",
       "235                                         Very close   "
      ]
     },
     "execution_count": 3,
     "metadata": {},
     "output_type": "execute_result"
    }
   ],
   "source": [
    "df.sample(5)"
   ]
  },
  {
   "cell_type": "code",
   "execution_count": 4,
   "id": "2c9be927",
   "metadata": {},
   "outputs": [],
   "source": [
    "new_columns_name=[\n",
    "    'Timestamp',\n",
    "    'Sex',\n",
    "    '12th_GPA',\n",
    "    'Previous_year',\n",
    "    'faculty',\n",
    "    '2023_GPA',\n",
    "    'Accomendation_status',\n",
    "    'Monthly_allowance',\n",
    "    'is_scholarship',\n",
    "    'study_hr_perweek',\n",
    "    'party_duration_perweek',\n",
    "    'no_of_alcholol_drink',\n",
    "    'miss_classes_perweek',\n",
    "    'no_of_backlock',\n",
    "    'relationship_status',\n",
    "    'parent_approved',\n",
    "    'relation_with_parent']\n",
    "df.columns=new_columns_name"
   ]
  },
  {
   "cell_type": "code",
   "execution_count": 5,
   "id": "a5c88190",
   "metadata": {},
   "outputs": [
    {
     "data": {
      "text/html": [
       "<div>\n",
       "<style scoped>\n",
       "    .dataframe tbody tr th:only-of-type {\n",
       "        vertical-align: middle;\n",
       "    }\n",
       "\n",
       "    .dataframe tbody tr th {\n",
       "        vertical-align: top;\n",
       "    }\n",
       "\n",
       "    .dataframe thead th {\n",
       "        text-align: right;\n",
       "    }\n",
       "</style>\n",
       "<table border=\"1\" class=\"dataframe\">\n",
       "  <thead>\n",
       "    <tr style=\"text-align: right;\">\n",
       "      <th></th>\n",
       "      <th>Timestamp</th>\n",
       "      <th>Sex</th>\n",
       "      <th>12th_GPA</th>\n",
       "      <th>Previous_year</th>\n",
       "      <th>faculty</th>\n",
       "      <th>2023_GPA</th>\n",
       "      <th>Accomendation_status</th>\n",
       "      <th>Monthly_allowance</th>\n",
       "      <th>is_scholarship</th>\n",
       "      <th>study_hr_perweek</th>\n",
       "      <th>party_duration_perweek</th>\n",
       "      <th>no_of_alcholol_drink</th>\n",
       "      <th>miss_classes_perweek</th>\n",
       "      <th>no_of_backlock</th>\n",
       "      <th>relationship_status</th>\n",
       "      <th>parent_approved</th>\n",
       "      <th>relation_with_parent</th>\n",
       "    </tr>\n",
       "  </thead>\n",
       "  <tbody>\n",
       "    <tr>\n",
       "      <th>0</th>\n",
       "      <td>2024/03/07 5:12:01 pm EET</td>\n",
       "      <td>Female</td>\n",
       "      <td>76.0</td>\n",
       "      <td>2nd Year</td>\n",
       "      <td>Arts &amp; Social Sciences</td>\n",
       "      <td>72.0</td>\n",
       "      <td>Private accommodation/ stay with family/friends</td>\n",
       "      <td>R 4001- R 5000</td>\n",
       "      <td>No</td>\n",
       "      <td>8+</td>\n",
       "      <td>Only weekends</td>\n",
       "      <td>8+</td>\n",
       "      <td>3</td>\n",
       "      <td>0</td>\n",
       "      <td>Yes</td>\n",
       "      <td>Yes</td>\n",
       "      <td>Very close</td>\n",
       "    </tr>\n",
       "    <tr>\n",
       "      <th>1</th>\n",
       "      <td>2024/03/07 5:12:08 pm EET</td>\n",
       "      <td>Male</td>\n",
       "      <td>89.0</td>\n",
       "      <td>2nd Year</td>\n",
       "      <td>Economic &amp; Management Sciences</td>\n",
       "      <td>75.0</td>\n",
       "      <td>Private accommodation/ stay with family/friends</td>\n",
       "      <td>R 7001 - R 8000</td>\n",
       "      <td>Yes (NSFAS, etc...)</td>\n",
       "      <td>8+</td>\n",
       "      <td>Only weekends</td>\n",
       "      <td>3-5</td>\n",
       "      <td>4+</td>\n",
       "      <td>0</td>\n",
       "      <td>No</td>\n",
       "      <td>Yes</td>\n",
       "      <td>Very close</td>\n",
       "    </tr>\n",
       "    <tr>\n",
       "      <th>2</th>\n",
       "      <td>2024/03/07 5:12:25 pm EET</td>\n",
       "      <td>Male</td>\n",
       "      <td>76.0</td>\n",
       "      <td>1st Year</td>\n",
       "      <td>AgriSciences</td>\n",
       "      <td>55.0</td>\n",
       "      <td>Private accommodation/ stay with family/friends</td>\n",
       "      <td>R 4001- R 5000</td>\n",
       "      <td>No</td>\n",
       "      <td>3-5</td>\n",
       "      <td>2</td>\n",
       "      <td>8+</td>\n",
       "      <td>3</td>\n",
       "      <td>0</td>\n",
       "      <td>No</td>\n",
       "      <td>Yes</td>\n",
       "      <td>Very close</td>\n",
       "    </tr>\n",
       "    <tr>\n",
       "      <th>3</th>\n",
       "      <td>2024/03/07 5:12:28 pm EET</td>\n",
       "      <td>Male</td>\n",
       "      <td>89.0</td>\n",
       "      <td>2nd Year</td>\n",
       "      <td>Engineering</td>\n",
       "      <td>84.0</td>\n",
       "      <td>Private accommodation/ stay with family/friends</td>\n",
       "      <td>R 6001 - R 7000</td>\n",
       "      <td>No</td>\n",
       "      <td>3-5</td>\n",
       "      <td>3</td>\n",
       "      <td>8+</td>\n",
       "      <td>2</td>\n",
       "      <td>0</td>\n",
       "      <td>Yes</td>\n",
       "      <td>Yes</td>\n",
       "      <td>Very close</td>\n",
       "    </tr>\n",
       "    <tr>\n",
       "      <th>4</th>\n",
       "      <td>2024/03/07 5:13:00 pm EET</td>\n",
       "      <td>Female</td>\n",
       "      <td>74.0</td>\n",
       "      <td>2nd Year</td>\n",
       "      <td>Arts &amp; Social Sciences</td>\n",
       "      <td>52.0</td>\n",
       "      <td>Private accommodation/ stay with family/friends</td>\n",
       "      <td>R 4001- R 5000</td>\n",
       "      <td>No</td>\n",
       "      <td>3-5</td>\n",
       "      <td>Only weekends</td>\n",
       "      <td>5-8</td>\n",
       "      <td>1</td>\n",
       "      <td>3</td>\n",
       "      <td>No</td>\n",
       "      <td>Yes</td>\n",
       "      <td>Fair</td>\n",
       "    </tr>\n",
       "  </tbody>\n",
       "</table>\n",
       "</div>"
      ],
      "text/plain": [
       "                   Timestamp     Sex  12th_GPA Previous_year  \\\n",
       "0  2024/03/07 5:12:01 pm EET  Female      76.0      2nd Year   \n",
       "1  2024/03/07 5:12:08 pm EET    Male      89.0      2nd Year   \n",
       "2  2024/03/07 5:12:25 pm EET    Male      76.0      1st Year   \n",
       "3  2024/03/07 5:12:28 pm EET    Male      89.0      2nd Year   \n",
       "4  2024/03/07 5:13:00 pm EET  Female      74.0      2nd Year   \n",
       "\n",
       "                          faculty  2023_GPA  \\\n",
       "0          Arts & Social Sciences      72.0   \n",
       "1  Economic & Management Sciences      75.0   \n",
       "2                    AgriSciences      55.0   \n",
       "3                     Engineering      84.0   \n",
       "4          Arts & Social Sciences      52.0   \n",
       "\n",
       "                              Accomendation_status Monthly_allowance  \\\n",
       "0  Private accommodation/ stay with family/friends    R 4001- R 5000   \n",
       "1  Private accommodation/ stay with family/friends   R 7001 - R 8000   \n",
       "2  Private accommodation/ stay with family/friends    R 4001- R 5000   \n",
       "3  Private accommodation/ stay with family/friends   R 6001 - R 7000   \n",
       "4  Private accommodation/ stay with family/friends    R 4001- R 5000   \n",
       "\n",
       "        is_scholarship study_hr_perweek party_duration_perweek  \\\n",
       "0                   No               8+          Only weekends   \n",
       "1  Yes (NSFAS, etc...)               8+          Only weekends   \n",
       "2                   No              3-5                      2   \n",
       "3                   No              3-5                      3   \n",
       "4                   No              3-5          Only weekends   \n",
       "\n",
       "  no_of_alcholol_drink miss_classes_perweek no_of_backlock  \\\n",
       "0                   8+                    3              0   \n",
       "1                  3-5                   4+              0   \n",
       "2                   8+                    3              0   \n",
       "3                   8+                    2              0   \n",
       "4                  5-8                    1              3   \n",
       "\n",
       "  relationship_status parent_approved relation_with_parent  \n",
       "0                 Yes             Yes           Very close  \n",
       "1                  No             Yes           Very close  \n",
       "2                  No             Yes           Very close  \n",
       "3                 Yes             Yes           Very close  \n",
       "4                  No             Yes                 Fair  "
      ]
     },
     "execution_count": 5,
     "metadata": {},
     "output_type": "execute_result"
    }
   ],
   "source": [
    "df.head(5)"
   ]
  },
  {
   "cell_type": "code",
   "execution_count": 6,
   "id": "507a2e5d",
   "metadata": {},
   "outputs": [
    {
     "data": {
      "text/plain": [
       "(406, 17)"
      ]
     },
     "execution_count": 6,
     "metadata": {},
     "output_type": "execute_result"
    }
   ],
   "source": [
    "df.shape"
   ]
  },
  {
   "cell_type": "code",
   "execution_count": 7,
   "id": "71c30cff",
   "metadata": {},
   "outputs": [
    {
     "name": "stdout",
     "output_type": "stream",
     "text": [
      "<class 'pandas.core.frame.DataFrame'>\n",
      "RangeIndex: 406 entries, 0 to 405\n",
      "Data columns (total 17 columns):\n",
      " #   Column                  Non-Null Count  Dtype  \n",
      "---  ------                  --------------  -----  \n",
      " 0   Timestamp               406 non-null    object \n",
      " 1   Sex                     404 non-null    object \n",
      " 2   12th_GPA                399 non-null    float64\n",
      " 3   Previous_year           333 non-null    object \n",
      " 4   faculty                 399 non-null    object \n",
      " 5   2023_GPA                320 non-null    float64\n",
      " 6   Accomendation_status    383 non-null    object \n",
      " 7   Monthly_allowance       375 non-null    object \n",
      " 8   is_scholarship          398 non-null    object \n",
      " 9   study_hr_perweek        403 non-null    object \n",
      " 10  party_duration_perweek  404 non-null    object \n",
      " 11  no_of_alcholol_drink    404 non-null    object \n",
      " 12  miss_classes_perweek    403 non-null    object \n",
      " 13  no_of_backlock          403 non-null    object \n",
      " 14  relationship_status     403 non-null    object \n",
      " 15  parent_approved         402 non-null    object \n",
      " 16  relation_with_parent    403 non-null    object \n",
      "dtypes: float64(2), object(15)\n",
      "memory usage: 54.0+ KB\n"
     ]
    }
   ],
   "source": [
    "df.info()"
   ]
  },
  {
   "cell_type": "markdown",
   "id": "76569a9f",
   "metadata": {},
   "source": [
    "# Performing Univariate Analysis"
   ]
  },
  {
   "cell_type": "code",
   "execution_count": 8,
   "id": "3598961e",
   "metadata": {},
   "outputs": [],
   "source": [
    "categorical_columns=[\n",
    "    'Sex',\n",
    "    'faculty',\n",
    "    'Accomendation_status',\n",
    "    'is_scholarship',\n",
    "    'relationship_status',\n",
    "    #'parrent_approved',\n",
    "    'relation_with_parent',\n",
    "]"
   ]
  },
  {
   "cell_type": "code",
   "execution_count": 9,
   "id": "62f8d652",
   "metadata": {},
   "outputs": [
    {
     "data": {
      "image/png": "[encoded data removed]",
      "text/plain": [
       "<Figure size 720x3240 with 12 Axes>"
      ]
     },
     "metadata": {
      "needs_background": "light"
     },
     "output_type": "display_data"
    }
   ],
   "source": [
    "fig, axes = plt.subplots(len(categorical_columns),2, figsize=(10,45))\n",
    "for i, column in enumerate(categorical_columns):\n",
    "    #bargraph plot\n",
    "    df[column].value_counts().plot(kind='bar',ax=axes[i,0])\n",
    "    axes[i,0].set_title(f'{column} bar graph')\n",
    "    \n",
    "    #pie chart plot\n",
    "    df[column].value_counts().plot(kind='pie',ax=axes[i,1])\n",
    "    axes[i,1].set_title(f'{column} pie chart')\n",
    "plt.tight_layout()\n",
    "plt.show()\n",
    "\n"
   ]
  },
  {
   "cell_type": "code",
   "execution_count": 10,
   "id": "665d8a76",
   "metadata": {},
   "outputs": [
    {
     "data": {
      "text/plain": [
       "<seaborn.axisgrid.FacetGrid at 0x23c7d78ac10>"
      ]
     },
     "execution_count": 10,
     "metadata": {},
     "output_type": "execute_result"
    },
    {
     "data": {
      "image/png": "[encoded data removed]",
      "text/plain": [
       "<Figure size 360x360 with 1 Axes>"
      ]
     },
     "metadata": {
      "needs_background": "light"
     },
     "output_type": "display_data"
    }
   ],
   "source": [
    "sns.displot(df['12th_GPA'])"
   ]
  },
  {
   "cell_type": "code",
   "execution_count": null,
   "id": "eea5f5d6",
   "metadata": {},
   "outputs": [],
   "source": []
  },
  {
   "cell_type": "markdown",
   "id": "2d7d3f29",
   "metadata": {},
   "source": [
    "# BiVarieate Analysis"
   ]
  },
  {
   "cell_type": "code",
   "execution_count": 11,
   "id": "c6177aba",
   "metadata": {},
   "outputs": [
    {
     "data": {
      "text/plain": [
       "Index(['Timestamp', 'Sex', '12th_GPA', 'Previous_year', 'faculty', '2023_GPA',\n",
       "       'Accomendation_status', 'Monthly_allowance', 'is_scholarship',\n",
       "       'study_hr_perweek', 'party_duration_perweek', 'no_of_alcholol_drink',\n",
       "       'miss_classes_perweek', 'no_of_backlock', 'relationship_status',\n",
       "       'parent_approved', 'relation_with_parent'],\n",
       "      dtype='object')"
      ]
     },
     "execution_count": 11,
     "metadata": {},
     "output_type": "execute_result"
    }
   ],
   "source": [
    "df.columns"
   ]
  },
  {
   "cell_type": "code",
   "execution_count": 12,
   "id": "2e1518fe",
   "metadata": {},
   "outputs": [
    {
     "data": {
      "text/plain": [
       "<AxesSubplot:xlabel='2023_GPA', ylabel='Sex'>"
      ]
     },
     "execution_count": 12,
     "metadata": {},
     "output_type": "execute_result"
    },
    {
     "data": {
      "image/png": "[encoded data removed]",
      "text/plain": [
       "<Figure size 432x288 with 1 Axes>"
      ]
     },
     "metadata": {
      "needs_background": "light"
     },
     "output_type": "display_data"
    }
   ],
   "source": [
    "sns.boxplot(data=df,x='2023_GPA',y='Sex')"
   ]
  },
  {
   "cell_type": "markdown",
   "id": "11337d9a",
   "metadata": {},
   "source": [
    "# no_of_alcholol_drink and Monthly allowance heatmap"
   ]
  },
  {
   "cell_type": "code",
   "execution_count": 13,
   "id": "0d432127",
   "metadata": {},
   "outputs": [
    {
     "data": {
      "text/html": [
       "<div>\n",
       "<style scoped>\n",
       "    .dataframe tbody tr th:only-of-type {\n",
       "        vertical-align: middle;\n",
       "    }\n",
       "\n",
       "    .dataframe tbody tr th {\n",
       "        vertical-align: top;\n",
       "    }\n",
       "\n",
       "    .dataframe thead th {\n",
       "        text-align: right;\n",
       "    }\n",
       "</style>\n",
       "<table border=\"1\" class=\"dataframe\">\n",
       "  <thead>\n",
       "    <tr style=\"text-align: right;\">\n",
       "      <th>Monthly_allowance</th>\n",
       "      <th>R 4001- R 5000</th>\n",
       "      <th>R 5001 - R 6000</th>\n",
       "      <th>R 6001 - R 7000</th>\n",
       "      <th>R 7001 - R 8000</th>\n",
       "      <th>R 8000+</th>\n",
       "    </tr>\n",
       "    <tr>\n",
       "      <th>no_of_alcholol_drink</th>\n",
       "      <th></th>\n",
       "      <th></th>\n",
       "      <th></th>\n",
       "      <th></th>\n",
       "      <th></th>\n",
       "    </tr>\n",
       "  </thead>\n",
       "  <tbody>\n",
       "    <tr>\n",
       "      <th>0</th>\n",
       "      <td>14</td>\n",
       "      <td>4</td>\n",
       "      <td>2</td>\n",
       "      <td>1</td>\n",
       "      <td>1</td>\n",
       "    </tr>\n",
       "    <tr>\n",
       "      <th>1-3</th>\n",
       "      <td>37</td>\n",
       "      <td>23</td>\n",
       "      <td>8</td>\n",
       "      <td>6</td>\n",
       "      <td>6</td>\n",
       "    </tr>\n",
       "    <tr>\n",
       "      <th>3-5</th>\n",
       "      <td>35</td>\n",
       "      <td>22</td>\n",
       "      <td>13</td>\n",
       "      <td>12</td>\n",
       "      <td>4</td>\n",
       "    </tr>\n",
       "    <tr>\n",
       "      <th>5-8</th>\n",
       "      <td>39</td>\n",
       "      <td>35</td>\n",
       "      <td>15</td>\n",
       "      <td>4</td>\n",
       "      <td>10</td>\n",
       "    </tr>\n",
       "    <tr>\n",
       "      <th>8+</th>\n",
       "      <td>34</td>\n",
       "      <td>17</td>\n",
       "      <td>20</td>\n",
       "      <td>7</td>\n",
       "      <td>6</td>\n",
       "    </tr>\n",
       "  </tbody>\n",
       "</table>\n",
       "</div>"
      ],
      "text/plain": [
       "Monthly_allowance     R 4001- R 5000  R 5001 - R 6000  R 6001 - R 7000  \\\n",
       "no_of_alcholol_drink                                                     \n",
       "0                                 14                4                2   \n",
       "1-3                               37               23                8   \n",
       "3-5                               35               22               13   \n",
       "5-8                               39               35               15   \n",
       "8+                                34               17               20   \n",
       "\n",
       "Monthly_allowance     R 7001 - R 8000  R 8000+  \n",
       "no_of_alcholol_drink                            \n",
       "0                                   1        1  \n",
       "1-3                                 6        6  \n",
       "3-5                                12        4  \n",
       "5-8                                 4       10  \n",
       "8+                                  7        6  "
      ]
     },
     "execution_count": 13,
     "metadata": {},
     "output_type": "execute_result"
    }
   ],
   "source": [
    "\n",
    "drink_and_allowance=pd.crosstab(df['no_of_alcholol_drink'],df['Monthly_allowance'])\n",
    "drink_and_allowance"
   ]
  },
  {
   "cell_type": "code",
   "execution_count": 14,
   "id": "68292512",
   "metadata": {},
   "outputs": [
    {
     "data": {
      "text/plain": [
       "array(['8+', '3-5', '5-8', '1-3', '0', nan], dtype=object)"
      ]
     },
     "execution_count": 14,
     "metadata": {},
     "output_type": "execute_result"
    }
   ],
   "source": [
    "df.no_of_alcholol_drink.unique()"
   ]
  },
  {
   "cell_type": "code",
   "execution_count": 15,
   "id": "0e98e585",
   "metadata": {},
   "outputs": [
    {
     "data": {
      "text/plain": [
       "<AxesSubplot:xlabel='Monthly_allowance', ylabel='no_of_alcholol_drink'>"
      ]
     },
     "execution_count": 15,
     "metadata": {},
     "output_type": "execute_result"
    },
    {
     "data": {
      "image/png": "[encoded data removed]",
      "text/plain": [
       "<Figure size 432x288 with 2 Axes>"
      ]
     },
     "metadata": {
      "needs_background": "light"
     },
     "output_type": "display_data"
    }
   ],
   "source": [
    "sns.heatmap(drink_and_allowance)"
   ]
  },
  {
   "cell_type": "markdown",
   "id": "b223f16a",
   "metadata": {},
   "source": [
    "# Preprocessing "
   ]
  },
  {
   "cell_type": "code",
   "execution_count": 16,
   "id": "7109b809",
   "metadata": {},
   "outputs": [
    {
     "data": {
      "text/plain": [
       "Timestamp                  0\n",
       "Sex                        2\n",
       "12th_GPA                   7\n",
       "Previous_year             73\n",
       "faculty                    7\n",
       "2023_GPA                  86\n",
       "Accomendation_status      23\n",
       "Monthly_allowance         31\n",
       "is_scholarship             8\n",
       "study_hr_perweek           3\n",
       "party_duration_perweek     2\n",
       "no_of_alcholol_drink       2\n",
       "miss_classes_perweek       3\n",
       "no_of_backlock             3\n",
       "relationship_status        3\n",
       "parent_approved            4\n",
       "relation_with_parent       3\n",
       "dtype: int64"
      ]
     },
     "execution_count": 16,
     "metadata": {},
     "output_type": "execute_result"
    }
   ],
   "source": [
    "df.isna().sum()"
   ]
  },
  {
   "cell_type": "code",
   "execution_count": 17,
   "id": "e6de41f0",
   "metadata": {},
   "outputs": [],
   "source": [
    "#droping the timestamp column\n",
    "df.drop('Timestamp',axis=1,inplace=True)"
   ]
  },
  {
   "cell_type": "code",
   "execution_count": 18,
   "id": "c501c8a3",
   "metadata": {},
   "outputs": [
    {
     "data": {
      "text/html": [
       "<div>\n",
       "<style scoped>\n",
       "    .dataframe tbody tr th:only-of-type {\n",
       "        vertical-align: middle;\n",
       "    }\n",
       "\n",
       "    .dataframe tbody tr th {\n",
       "        vertical-align: top;\n",
       "    }\n",
       "\n",
       "    .dataframe thead th {\n",
       "        text-align: right;\n",
       "    }\n",
       "</style>\n",
       "<table border=\"1\" class=\"dataframe\">\n",
       "  <thead>\n",
       "    <tr style=\"text-align: right;\">\n",
       "      <th></th>\n",
       "      <th>Sex</th>\n",
       "      <th>12th_GPA</th>\n",
       "      <th>Previous_year</th>\n",
       "      <th>faculty</th>\n",
       "      <th>2023_GPA</th>\n",
       "      <th>Accomendation_status</th>\n",
       "      <th>Monthly_allowance</th>\n",
       "      <th>is_scholarship</th>\n",
       "      <th>study_hr_perweek</th>\n",
       "      <th>party_duration_perweek</th>\n",
       "      <th>no_of_alcholol_drink</th>\n",
       "      <th>miss_classes_perweek</th>\n",
       "      <th>no_of_backlock</th>\n",
       "      <th>relationship_status</th>\n",
       "      <th>parent_approved</th>\n",
       "      <th>relation_with_parent</th>\n",
       "    </tr>\n",
       "  </thead>\n",
       "  <tbody>\n",
       "    <tr>\n",
       "      <th>224</th>\n",
       "      <td>NaN</td>\n",
       "      <td>NaN</td>\n",
       "      <td>NaN</td>\n",
       "      <td>NaN</td>\n",
       "      <td>NaN</td>\n",
       "      <td>NaN</td>\n",
       "      <td>NaN</td>\n",
       "      <td>NaN</td>\n",
       "      <td>NaN</td>\n",
       "      <td>NaN</td>\n",
       "      <td>NaN</td>\n",
       "      <td>NaN</td>\n",
       "      <td>NaN</td>\n",
       "      <td>NaN</td>\n",
       "      <td>NaN</td>\n",
       "      <td>NaN</td>\n",
       "    </tr>\n",
       "    <tr>\n",
       "      <th>232</th>\n",
       "      <td>NaN</td>\n",
       "      <td>NaN</td>\n",
       "      <td>NaN</td>\n",
       "      <td>NaN</td>\n",
       "      <td>NaN</td>\n",
       "      <td>NaN</td>\n",
       "      <td>NaN</td>\n",
       "      <td>NaN</td>\n",
       "      <td>NaN</td>\n",
       "      <td>NaN</td>\n",
       "      <td>NaN</td>\n",
       "      <td>NaN</td>\n",
       "      <td>NaN</td>\n",
       "      <td>NaN</td>\n",
       "      <td>NaN</td>\n",
       "      <td>NaN</td>\n",
       "    </tr>\n",
       "  </tbody>\n",
       "</table>\n",
       "</div>"
      ],
      "text/plain": [
       "     Sex  12th_GPA Previous_year faculty  2023_GPA Accomendation_status  \\\n",
       "224  NaN       NaN           NaN     NaN       NaN                  NaN   \n",
       "232  NaN       NaN           NaN     NaN       NaN                  NaN   \n",
       "\n",
       "    Monthly_allowance is_scholarship study_hr_perweek party_duration_perweek  \\\n",
       "224               NaN            NaN              NaN                    NaN   \n",
       "232               NaN            NaN              NaN                    NaN   \n",
       "\n",
       "    no_of_alcholol_drink miss_classes_perweek no_of_backlock  \\\n",
       "224                  NaN                  NaN            NaN   \n",
       "232                  NaN                  NaN            NaN   \n",
       "\n",
       "    relationship_status parent_approved relation_with_parent  \n",
       "224                 NaN             NaN                  NaN  \n",
       "232                 NaN             NaN                  NaN  "
      ]
     },
     "execution_count": 18,
     "metadata": {},
     "output_type": "execute_result"
    }
   ],
   "source": [
    "df[df['Sex'].isna()]"
   ]
  },
  {
   "cell_type": "code",
   "execution_count": 19,
   "id": "f2bd7dd1",
   "metadata": {},
   "outputs": [],
   "source": [
    "#droping the row whose all value is null\n",
    "df.dropna(how='all',inplace =True)"
   ]
  },
  {
   "cell_type": "code",
   "execution_count": 20,
   "id": "5f56ce12",
   "metadata": {},
   "outputs": [
    {
     "data": {
      "text/html": [
       "<div>\n",
       "<style scoped>\n",
       "    .dataframe tbody tr th:only-of-type {\n",
       "        vertical-align: middle;\n",
       "    }\n",
       "\n",
       "    .dataframe tbody tr th {\n",
       "        vertical-align: top;\n",
       "    }\n",
       "\n",
       "    .dataframe thead th {\n",
       "        text-align: right;\n",
       "    }\n",
       "</style>\n",
       "<table border=\"1\" class=\"dataframe\">\n",
       "  <thead>\n",
       "    <tr style=\"text-align: right;\">\n",
       "      <th></th>\n",
       "      <th>Sex</th>\n",
       "      <th>12th_GPA</th>\n",
       "      <th>Previous_year</th>\n",
       "      <th>faculty</th>\n",
       "      <th>2023_GPA</th>\n",
       "      <th>Accomendation_status</th>\n",
       "      <th>Monthly_allowance</th>\n",
       "      <th>is_scholarship</th>\n",
       "      <th>study_hr_perweek</th>\n",
       "      <th>party_duration_perweek</th>\n",
       "      <th>no_of_alcholol_drink</th>\n",
       "      <th>miss_classes_perweek</th>\n",
       "      <th>no_of_backlock</th>\n",
       "      <th>relationship_status</th>\n",
       "      <th>parent_approved</th>\n",
       "      <th>relation_with_parent</th>\n",
       "    </tr>\n",
       "  </thead>\n",
       "  <tbody>\n",
       "  </tbody>\n",
       "</table>\n",
       "</div>"
      ],
      "text/plain": [
       "Empty DataFrame\n",
       "Columns: [Sex, 12th_GPA, Previous_year, faculty, 2023_GPA, Accomendation_status, Monthly_allowance, is_scholarship, study_hr_perweek, party_duration_perweek, no_of_alcholol_drink, miss_classes_perweek, no_of_backlock, relationship_status, parent_approved, relation_with_parent]\n",
       "Index: []"
      ]
     },
     "execution_count": 20,
     "metadata": {},
     "output_type": "execute_result"
    }
   ],
   "source": [
    "df[df['Sex'].isna()]"
   ]
  },
  {
   "cell_type": "code",
   "execution_count": 21,
   "id": "28606706",
   "metadata": {},
   "outputs": [
    {
     "data": {
      "text/html": [
       "<div>\n",
       "<style scoped>\n",
       "    .dataframe tbody tr th:only-of-type {\n",
       "        vertical-align: middle;\n",
       "    }\n",
       "\n",
       "    .dataframe tbody tr th {\n",
       "        vertical-align: top;\n",
       "    }\n",
       "\n",
       "    .dataframe thead th {\n",
       "        text-align: right;\n",
       "    }\n",
       "</style>\n",
       "<table border=\"1\" class=\"dataframe\">\n",
       "  <thead>\n",
       "    <tr style=\"text-align: right;\">\n",
       "      <th></th>\n",
       "      <th>Sex</th>\n",
       "      <th>12th_GPA</th>\n",
       "      <th>Previous_year</th>\n",
       "      <th>faculty</th>\n",
       "      <th>2023_GPA</th>\n",
       "      <th>Accomendation_status</th>\n",
       "      <th>Monthly_allowance</th>\n",
       "      <th>is_scholarship</th>\n",
       "      <th>study_hr_perweek</th>\n",
       "      <th>party_duration_perweek</th>\n",
       "      <th>no_of_alcholol_drink</th>\n",
       "      <th>miss_classes_perweek</th>\n",
       "      <th>no_of_backlock</th>\n",
       "      <th>relationship_status</th>\n",
       "      <th>parent_approved</th>\n",
       "      <th>relation_with_parent</th>\n",
       "    </tr>\n",
       "  </thead>\n",
       "  <tbody>\n",
       "    <tr>\n",
       "      <th>14</th>\n",
       "      <td>Male</td>\n",
       "      <td>78.0</td>\n",
       "      <td>NaN</td>\n",
       "      <td>Science</td>\n",
       "      <td>NaN</td>\n",
       "      <td>NaN</td>\n",
       "      <td>NaN</td>\n",
       "      <td>NaN</td>\n",
       "      <td>3-5</td>\n",
       "      <td>2</td>\n",
       "      <td>5-8</td>\n",
       "      <td>0</td>\n",
       "      <td>0</td>\n",
       "      <td>No</td>\n",
       "      <td>Yes</td>\n",
       "      <td>Very close</td>\n",
       "    </tr>\n",
       "    <tr>\n",
       "      <th>77</th>\n",
       "      <td>Female</td>\n",
       "      <td>87.0</td>\n",
       "      <td>NaN</td>\n",
       "      <td>Science</td>\n",
       "      <td>NaN</td>\n",
       "      <td>NaN</td>\n",
       "      <td>NaN</td>\n",
       "      <td>NaN</td>\n",
       "      <td>8+</td>\n",
       "      <td>Only weekends</td>\n",
       "      <td>1-3</td>\n",
       "      <td>0</td>\n",
       "      <td>0</td>\n",
       "      <td>No</td>\n",
       "      <td>Yes</td>\n",
       "      <td>Very close</td>\n",
       "    </tr>\n",
       "    <tr>\n",
       "      <th>115</th>\n",
       "      <td>Female</td>\n",
       "      <td>84.0</td>\n",
       "      <td>NaN</td>\n",
       "      <td>Economic &amp; Management Sciences</td>\n",
       "      <td>NaN</td>\n",
       "      <td>NaN</td>\n",
       "      <td>NaN</td>\n",
       "      <td>NaN</td>\n",
       "      <td>0</td>\n",
       "      <td>3</td>\n",
       "      <td>5-8</td>\n",
       "      <td>0</td>\n",
       "      <td>0</td>\n",
       "      <td>No</td>\n",
       "      <td>Yes</td>\n",
       "      <td>Close</td>\n",
       "    </tr>\n",
       "    <tr>\n",
       "      <th>343</th>\n",
       "      <td>Female</td>\n",
       "      <td>78.0</td>\n",
       "      <td>NaN</td>\n",
       "      <td>Economic &amp; Management Sciences</td>\n",
       "      <td>NaN</td>\n",
       "      <td>NaN</td>\n",
       "      <td>NaN</td>\n",
       "      <td>NaN</td>\n",
       "      <td>8+</td>\n",
       "      <td>1</td>\n",
       "      <td>1-3</td>\n",
       "      <td>0</td>\n",
       "      <td>0</td>\n",
       "      <td>Yes</td>\n",
       "      <td>Yes</td>\n",
       "      <td>Close</td>\n",
       "    </tr>\n",
       "  </tbody>\n",
       "</table>\n",
       "</div>"
      ],
      "text/plain": [
       "        Sex  12th_GPA Previous_year                         faculty  2023_GPA  \\\n",
       "14     Male      78.0           NaN                         Science       NaN   \n",
       "77   Female      87.0           NaN                         Science       NaN   \n",
       "115  Female      84.0           NaN  Economic & Management Sciences       NaN   \n",
       "343  Female      78.0           NaN  Economic & Management Sciences       NaN   \n",
       "\n",
       "    Accomendation_status Monthly_allowance is_scholarship study_hr_perweek  \\\n",
       "14                   NaN               NaN            NaN              3-5   \n",
       "77                   NaN               NaN            NaN               8+   \n",
       "115                  NaN               NaN            NaN                0   \n",
       "343                  NaN               NaN            NaN               8+   \n",
       "\n",
       "    party_duration_perweek no_of_alcholol_drink miss_classes_perweek  \\\n",
       "14                       2                  5-8                    0   \n",
       "77           Only weekends                  1-3                    0   \n",
       "115                      3                  5-8                    0   \n",
       "343                      1                  1-3                    0   \n",
       "\n",
       "    no_of_backlock relationship_status parent_approved relation_with_parent  \n",
       "14               0                  No             Yes           Very close  \n",
       "77               0                  No             Yes           Very close  \n",
       "115              0                  No             Yes                Close  \n",
       "343              0                 Yes             Yes                Close  "
      ]
     },
     "execution_count": 21,
     "metadata": {},
     "output_type": "execute_result"
    }
   ],
   "source": [
    "#checking in each row how many null value are there\n",
    "row_with_total_null_value=df.isna().sum(axis=1)\n",
    "df[row_with_total_null_value>4]"
   ]
  },
  {
   "cell_type": "code",
   "execution_count": 22,
   "id": "d4129f0c",
   "metadata": {},
   "outputs": [],
   "source": [
    "null_cat_column=[\n",
    "    'faculty',\n",
    "    'Accomendation_status',\n",
    "    'Monthly_allowance',\n",
    "    'is_scholarship',\n",
    "    'study_hr_perweek',\n",
    "    'no_of_alcholol_drink',\n",
    "    'miss_classes_perweek',\n",
    "    'no_of_backlock',\n",
    "    'relationship_status',\n",
    "    'relation_with_parent']\n"
   ]
  },
  {
   "cell_type": "code",
   "execution_count": 23,
   "id": "93e296f5",
   "metadata": {},
   "outputs": [],
   "source": [
    "for column in null_cat_column:\n",
    "    df[column].fillna(df[column].mode,inplace=True)"
   ]
  },
  {
   "cell_type": "code",
   "execution_count": 24,
   "id": "42dffd9a",
   "metadata": {},
   "outputs": [
    {
     "data": {
      "text/plain": [
       "Sex                        0\n",
       "12th_GPA                   5\n",
       "Previous_year             71\n",
       "faculty                    0\n",
       "2023_GPA                  84\n",
       "Accomendation_status       0\n",
       "Monthly_allowance          0\n",
       "is_scholarship             0\n",
       "study_hr_perweek           0\n",
       "party_duration_perweek     0\n",
       "no_of_alcholol_drink       0\n",
       "miss_classes_perweek       0\n",
       "no_of_backlock             0\n",
       "relationship_status        0\n",
       "parent_approved            2\n",
       "relation_with_parent       0\n",
       "dtype: int64"
      ]
     },
     "execution_count": 24,
     "metadata": {},
     "output_type": "execute_result"
    }
   ],
   "source": [
    "df.isna().sum()"
   ]
  },
  {
   "cell_type": "code",
   "execution_count": 25,
   "id": "e6a3df24",
   "metadata": {},
   "outputs": [],
   "source": [
    "#droping null value from parent_approved\n",
    "df.dropna(subset='parent_approved',inplace = True)"
   ]
  },
  {
   "cell_type": "code",
   "execution_count": 26,
   "id": "e366ca2a",
   "metadata": {},
   "outputs": [],
   "source": [
    "#filling the 12th_GPA with mean value\n",
    "df['12th_GPA'].fillna(df['12th_GPA'].median,inplace =True)"
   ]
  },
  {
   "cell_type": "code",
   "execution_count": 27,
   "id": "27376bdb",
   "metadata": {},
   "outputs": [],
   "source": [
    "df['2023_GPA'].fillna(df['2023_GPA'].median,inplace = True)"
   ]
  },
  {
   "cell_type": "code",
   "execution_count": 28,
   "id": "9363c724",
   "metadata": {},
   "outputs": [],
   "source": [
    "#droping previous year cloumn\n",
    "df.drop('Previous_year', axis=1, inplace=True)"
   ]
  },
  {
   "cell_type": "markdown",
   "id": "8a97b90f",
   "metadata": {},
   "source": [
    "# Performing encoding and noramliazation"
   ]
  },
  {
   "cell_type": "code",
   "execution_count": 29,
   "id": "7fc05a7b",
   "metadata": {},
   "outputs": [
    {
     "data": {
      "text/html": [
       "<div>\n",
       "<style scoped>\n",
       "    .dataframe tbody tr th:only-of-type {\n",
       "        vertical-align: middle;\n",
       "    }\n",
       "\n",
       "    .dataframe tbody tr th {\n",
       "        vertical-align: top;\n",
       "    }\n",
       "\n",
       "    .dataframe thead th {\n",
       "        text-align: right;\n",
       "    }\n",
       "</style>\n",
       "<table border=\"1\" class=\"dataframe\">\n",
       "  <thead>\n",
       "    <tr style=\"text-align: right;\">\n",
       "      <th></th>\n",
       "      <th>Sex</th>\n",
       "      <th>12th_GPA</th>\n",
       "      <th>faculty</th>\n",
       "      <th>2023_GPA</th>\n",
       "      <th>Accomendation_status</th>\n",
       "      <th>Monthly_allowance</th>\n",
       "      <th>is_scholarship</th>\n",
       "      <th>study_hr_perweek</th>\n",
       "      <th>party_duration_perweek</th>\n",
       "      <th>no_of_alcholol_drink</th>\n",
       "      <th>miss_classes_perweek</th>\n",
       "      <th>no_of_backlock</th>\n",
       "      <th>relationship_status</th>\n",
       "      <th>parent_approved</th>\n",
       "      <th>relation_with_parent</th>\n",
       "    </tr>\n",
       "  </thead>\n",
       "  <tbody>\n",
       "    <tr>\n",
       "      <th>0</th>\n",
       "      <td>Female</td>\n",
       "      <td>76.0</td>\n",
       "      <td>Arts &amp; Social Sciences</td>\n",
       "      <td>72.0</td>\n",
       "      <td>Private accommodation/ stay with family/friends</td>\n",
       "      <td>R 4001- R 5000</td>\n",
       "      <td>No</td>\n",
       "      <td>8+</td>\n",
       "      <td>Only weekends</td>\n",
       "      <td>8+</td>\n",
       "      <td>3</td>\n",
       "      <td>0</td>\n",
       "      <td>Yes</td>\n",
       "      <td>Yes</td>\n",
       "      <td>Very close</td>\n",
       "    </tr>\n",
       "    <tr>\n",
       "      <th>1</th>\n",
       "      <td>Male</td>\n",
       "      <td>89.0</td>\n",
       "      <td>Economic &amp; Management Sciences</td>\n",
       "      <td>75.0</td>\n",
       "      <td>Private accommodation/ stay with family/friends</td>\n",
       "      <td>R 7001 - R 8000</td>\n",
       "      <td>Yes (NSFAS, etc...)</td>\n",
       "      <td>8+</td>\n",
       "      <td>Only weekends</td>\n",
       "      <td>3-5</td>\n",
       "      <td>4+</td>\n",
       "      <td>0</td>\n",
       "      <td>No</td>\n",
       "      <td>Yes</td>\n",
       "      <td>Very close</td>\n",
       "    </tr>\n",
       "    <tr>\n",
       "      <th>2</th>\n",
       "      <td>Male</td>\n",
       "      <td>76.0</td>\n",
       "      <td>AgriSciences</td>\n",
       "      <td>55.0</td>\n",
       "      <td>Private accommodation/ stay with family/friends</td>\n",
       "      <td>R 4001- R 5000</td>\n",
       "      <td>No</td>\n",
       "      <td>3-5</td>\n",
       "      <td>2</td>\n",
       "      <td>8+</td>\n",
       "      <td>3</td>\n",
       "      <td>0</td>\n",
       "      <td>No</td>\n",
       "      <td>Yes</td>\n",
       "      <td>Very close</td>\n",
       "    </tr>\n",
       "    <tr>\n",
       "      <th>3</th>\n",
       "      <td>Male</td>\n",
       "      <td>89.0</td>\n",
       "      <td>Engineering</td>\n",
       "      <td>84.0</td>\n",
       "      <td>Private accommodation/ stay with family/friends</td>\n",
       "      <td>R 6001 - R 7000</td>\n",
       "      <td>No</td>\n",
       "      <td>3-5</td>\n",
       "      <td>3</td>\n",
       "      <td>8+</td>\n",
       "      <td>2</td>\n",
       "      <td>0</td>\n",
       "      <td>Yes</td>\n",
       "      <td>Yes</td>\n",
       "      <td>Very close</td>\n",
       "    </tr>\n",
       "    <tr>\n",
       "      <th>4</th>\n",
       "      <td>Female</td>\n",
       "      <td>74.0</td>\n",
       "      <td>Arts &amp; Social Sciences</td>\n",
       "      <td>52.0</td>\n",
       "      <td>Private accommodation/ stay with family/friends</td>\n",
       "      <td>R 4001- R 5000</td>\n",
       "      <td>No</td>\n",
       "      <td>3-5</td>\n",
       "      <td>Only weekends</td>\n",
       "      <td>5-8</td>\n",
       "      <td>1</td>\n",
       "      <td>3</td>\n",
       "      <td>No</td>\n",
       "      <td>Yes</td>\n",
       "      <td>Fair</td>\n",
       "    </tr>\n",
       "  </tbody>\n",
       "</table>\n",
       "</div>"
      ],
      "text/plain": [
       "      Sex 12th_GPA                         faculty 2023_GPA  \\\n",
       "0  Female     76.0          Arts & Social Sciences     72.0   \n",
       "1    Male     89.0  Economic & Management Sciences     75.0   \n",
       "2    Male     76.0                    AgriSciences     55.0   \n",
       "3    Male     89.0                     Engineering     84.0   \n",
       "4  Female     74.0          Arts & Social Sciences     52.0   \n",
       "\n",
       "                              Accomendation_status Monthly_allowance  \\\n",
       "0  Private accommodation/ stay with family/friends    R 4001- R 5000   \n",
       "1  Private accommodation/ stay with family/friends   R 7001 - R 8000   \n",
       "2  Private accommodation/ stay with family/friends    R 4001- R 5000   \n",
       "3  Private accommodation/ stay with family/friends   R 6001 - R 7000   \n",
       "4  Private accommodation/ stay with family/friends    R 4001- R 5000   \n",
       "\n",
       "        is_scholarship study_hr_perweek party_duration_perweek  \\\n",
       "0                   No               8+          Only weekends   \n",
       "1  Yes (NSFAS, etc...)               8+          Only weekends   \n",
       "2                   No              3-5                      2   \n",
       "3                   No              3-5                      3   \n",
       "4                   No              3-5          Only weekends   \n",
       "\n",
       "  no_of_alcholol_drink miss_classes_perweek no_of_backlock  \\\n",
       "0                   8+                    3              0   \n",
       "1                  3-5                   4+              0   \n",
       "2                   8+                    3              0   \n",
       "3                   8+                    2              0   \n",
       "4                  5-8                    1              3   \n",
       "\n",
       "  relationship_status parent_approved relation_with_parent  \n",
       "0                 Yes             Yes           Very close  \n",
       "1                  No             Yes           Very close  \n",
       "2                  No             Yes           Very close  \n",
       "3                 Yes             Yes           Very close  \n",
       "4                  No             Yes                 Fair  "
      ]
     },
     "execution_count": 29,
     "metadata": {},
     "output_type": "execute_result"
    }
   ],
   "source": [
    "df.head(5)"
   ]
  },
  {
   "cell_type": "code",
   "execution_count": 30,
   "id": "9d3f7dcd",
   "metadata": {},
   "outputs": [],
   "source": [
    "from sklearn.preprocessing import OrdinalEncoder\n",
    "from sklearn.model_selection import train_test_split"
   ]
  },
  {
   "cell_type": "code",
   "execution_count": 31,
   "id": "4a4d6060",
   "metadata": {},
   "outputs": [],
   "source": [
    "X=df.drop('2023_GPA',axis=1)\n",
    "y=df['2023_GPA']"
   ]
  },
  {
   "cell_type": "code",
   "execution_count": 32,
   "id": "8a5790a3",
   "metadata": {},
   "outputs": [],
   "source": [
    "X_train,X_test,y_train,y_test= train_test_split(X,y,test_size=0.2,random_state=44)"
   ]
  },
  {
   "cell_type": "code",
   "execution_count": 33,
   "id": "29382724",
   "metadata": {},
   "outputs": [],
   "source": [
    "from sklearn.compose import ColumnTransformer"
   ]
  },
  {
   "cell_type": "code",
   "execution_count": 34,
   "id": "f9db30c9",
   "metadata": {},
   "outputs": [],
   "source": [
    "column_to_transfer=[\n",
    "    'Sex',\n",
    "    'Faculty',\n",
    "    'Accomendation_status',\n",
    "    'Monthly_allowance',\n",
    "    'is_scholarship',\n",
    "    'study_hr_perweek',\n",
    "    'party_duration_perweek',\n",
    "    'no_of_alcholol_drink',\n",
    "    'miss_classes_perweek',\n",
    "    'no_of_backlock',\n",
    "    'relationship_status',\n",
    "    'parent_approved',\n",
    "    'relation_with_parent'\n",
    "    \n",
    "    \n",
    "    \n",
    "    \n",
    "]"
   ]
  },
  {
   "cell_type": "code",
   "execution_count": 35,
   "id": "8ac5f69d",
   "metadata": {},
   "outputs": [],
   "source": [
    "transfer=ColumnTransformer(\n",
    "    transformers=[('tns1',OrdinalEncoder(dtype=np.int32),column_to_transfer)],\n",
    "    remainder='passthrough'\n",
    ")"
   ]
  },
  {
   "cell_type": "code",
   "execution_count": null,
   "id": "191a194c",
   "metadata": {},
   "outputs": [],
   "source": [
    "X_train.head(5)"
   ]
  },
  {
   "cell_type": "code",
   "execution_count": null,
   "id": "005e70af",
   "metadata": {},
   "outputs": [],
   "source": []
  }
 ],
 "metadata": {
  "kernelspec": {
   "display_name": "Python 3 (ipykernel)",
   "language": "python",
   "name": "python3"
  },
  "language_info": {
   "codemirror_mode": {
    "name": "ipython",
    "version": 3
   },
   "file_extension": ".py",
   "mimetype": "text/x-python",
   "name": "python",
   "nbconvert_exporter": "python",
   "pygments_lexer": "ipython3",
   "version": "3.9.6"
  }
 },
 "nbformat": 4,
 "nbformat_minor": 5
}
