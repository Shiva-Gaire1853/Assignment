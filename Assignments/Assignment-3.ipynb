{
 "cells": [
  {
   "cell_type": "markdown",
   "id": "7e76d9b4",
   "metadata": {},
   "source": [
    "# Problem Statement\n",
    "\n",
    "We want to build an online shopping cart system that allows users to add products to their cart, calculate the total cost, apply discounts, and generate an invoice. The system should include the following functionalities:\n",
    "\n",
    "- Adding products to the cart\n",
    "- Removing products from the cart\n",
    "- Calculating the total cost\n",
    "- Applying discounts based on user type\n",
    "- Generating an invoice\n",
    "\n",
    "### 1. Create the Product class\n",
    "\n",
    "We create a basic `Product` class with attributes for the product name and price."
   ]
  },
  {
   "cell_type": "code",
   "execution_count": 1,
   "id": "a286f01a",
   "metadata": {},
   "outputs": [],
   "source": [
    "class Product:\n",
    "    \"\"\"This class consist of Product details\"\"\"\n",
    "    def __init__(self,product_name,price):\n",
    "        self.product_name=product_name\n",
    "        self.price=price"
   ]
  },
  {
   "cell_type": "markdown",
   "id": "0c9aa397",
   "metadata": {},
   "source": [
    "### 2.  Implement the User class\n",
    "\n",
    "In this step, we create a `User` class with attributes for the user's name and whether they are a premium member. We then modify the `calculate_total_cost` method in the `ShoppingCart` class to apply a `10%` discount for premium users."
   ]
  },
  {
   "cell_type": "code",
   "execution_count": 2,
   "id": "3393e953",
   "metadata": {},
   "outputs": [],
   "source": [
    "class User:\n",
    "    \"\"\"This class consist of User details\"\"\"\n",
    "    def __init__(self,user_name,is_premium_meb):\n",
    "        self.user_name=user_name\n",
    "        self.is_premium_meb=is_premium_meb\n",
    "        "
   ]
  },
  {
   "cell_type": "markdown",
   "id": "3b7e070b",
   "metadata": {},
   "source": [
    "### 3. Create the ShoppingCart class\n",
    "\n",
    "In this step, we create a `ShoppingCart` class with methods for adding and removing products from the cart, as well as calculating the total cost of the items in the cart."
   ]
  },
  {
   "cell_type": "code",
   "execution_count": 5,
   "id": "c0b5196d",
   "metadata": {},
   "outputs": [],
   "source": [
    "class ShoppingCart:\n",
    "    \"\"\"This class basic Cart method to add,remove product and calculate cost\"\"\"\n",
    "    def __init__(self,user):\n",
    "        self.product_list = {}\n",
    "        self.sum = 0\n",
    "        self.user=user\n",
    "\n",
    "    def add_product(self, **kwargs):      \n",
    "        self.product_list={product:value for product,value in kwargs.items()}\n",
    "        return\n",
    "    def remove_product(self, product_name):\n",
    "        del self.product_list[product_name]\n",
    "        return \n",
    "        \n",
    "    @discount_10_percent\n",
    "    def calculate_cost(self):\n",
    "      print('The invoice for the product you bought:-')\n",
    "      for product, value in self.product_list.items():\n",
    "          print(f'{product} : {value}')\n",
    "          self.sum = sum(self.product_list.values())\n",
    "      print('------------------------------------')\n",
    "      print(f'Total Cost :{self.sum}')\n",
    "\n",
    "\n",
    "\n"
   ]
  },
  {
   "cell_type": "markdown",
   "id": "da1f3494",
   "metadata": {},
   "source": [
    "Here, we defined a decorator `discount_10_percent` that applies a `10%` discount to the total cost. We then apply this decorator to the `calculate_total_cost` method in the `ShoppingCart` class."
   ]
  },
  {
   "cell_type": "code",
   "execution_count": 6,
   "id": "70bbec8d",
   "metadata": {},
   "outputs": [],
   "source": [
    "def discount_10_percent(func):\n",
    "    \"\"\"this is a decorator of calculate_total_cost method to provide discount for premium user\"\"\"\n",
    "    def wrapping(self):\n",
    "        Discount_amt=0\n",
    "        if self.user.is_premium_meb:\n",
    "            func(self)\n",
    "            Discount_amt = sum(self.product_list.values()) *0.1\n",
    "            print(f'Premium Discount : {Discount_amt}')\n",
    "            print('-----------------------')\n",
    "            print(f'Final Cost : {self.sum-Discount_amt}')\n",
    "        else:\n",
    "          func(self)\n",
    "    return wrapping \n",
    "\n",
    "        "
   ]
  },
  {
   "cell_type": "markdown",
   "id": "afc26053",
   "metadata": {},
   "source": [
    "### 4. Testing the functionality\n",
    "\n",
    "Now that we have implemented the necessary classes and methods, let's test our online shopping cart system:"
   ]
  },
  {
   "cell_type": "code",
   "execution_count": 9,
   "id": "6186bdcb",
   "metadata": {},
   "outputs": [],
   "source": [
    "user = User('Hari',True)\n",
    "shopping_cart=ShoppingCart(user)\n",
    "shopping_cart.add_product(biscuit=400, tshirt=1000)"
   ]
  },
  {
   "cell_type": "markdown",
   "id": "7ea7c96e",
   "metadata": {},
   "source": [
    "### 5. Generating Invoice for a given cart"
   ]
  },
  {
   "cell_type": "code",
   "execution_count": 10,
   "id": "3c12ae69",
   "metadata": {
    "scrolled": true
   },
   "outputs": [
    {
     "name": "stdout",
     "output_type": "stream",
     "text": [
      "The invoice for the product you bought:-\n",
      "biscuit : 400\n",
      "tshirt : 1000\n",
      "------------------------------------\n",
      "Total Cost :1400\n",
      "Premium Discount : 140.0\n",
      "-----------------------\n",
      "Final Cost : 1260.0\n"
     ]
    }
   ],
   "source": [
    "shopping_cart.calculate_cost()"
   ]
  },
  {
   "cell_type": "markdown",
   "id": "b602d561-09a8-4086-9295-dce1e8dacb71",
   "metadata": {},
   "source": [
    "### 6. Bonus Challenge"
   ]
  },
  {
   "cell_type": "markdown",
   "id": "cd2cf83b",
   "metadata": {},
   "source": [
    "In this case each user share the same cart, which is useless. Also each user can register himself/herself as a premium user, which is not practical again. So, you have to add following two additional features to the above program, to make it more real:\n",
    "\n",
    "1. Cart for a user should be independent from other users\n",
    "2. Add a new admin feature `is_admin` that takes in boolean values `[True, False]`, and only admin should be allowed to create other admins and set `is_premium=True` for other users"
   ]
  },
  {
   "cell_type": "code",
   "execution_count": 9,
   "id": "59e0bc19-36f6-4f4f-9d96-994e0dc19b59",
   "metadata": {},
   "outputs": [],
   "source": []
  }
 ],
 "metadata": {
  "kernelspec": {
   "display_name": "Python 3 (ipykernel)",
   "language": "python",
   "name": "python3"
  },
  "language_info": {
   "codemirror_mode": {
    "name": "ipython",
    "version": 3
   },
   "file_extension": ".py",
   "mimetype": "text/x-python",
   "name": "python",
   "nbconvert_exporter": "python",
   "pygments_lexer": "ipython3",
   "version": "3.9.6"
  }
 },
 "nbformat": 4,
 "nbformat_minor": 5
}
