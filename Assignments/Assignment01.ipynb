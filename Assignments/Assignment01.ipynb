{
 "cells": [
  {
   "cell_type": "markdown",
   "id": "173e5a4f",
   "metadata": {},
   "source": [
    " # 1. #**Personal Information**\n",
    "   - Create a variable `name` (str) to store the user's name.\n",
    "   - Create a variable `age` (int) to store the user's age.\n",
    "   - Print a greeting message using these variables, e.g., `\"Hello, my name is Alice and I am 30 years old.\"`"
   ]
  },
  {
   "cell_type": "code",
   "execution_count": 1,
   "id": "59063ae1",
   "metadata": {},
   "outputs": [
    {
     "name": "stdout",
     "output_type": "stream",
     "text": [
      "Hello, my name is Alice and I am 30 years old.\n"
     ]
    }
   ],
   "source": [
    "name='Alice'\n",
    "age=30\n",
    "print(f'Hello, my name is {name} and I am {age} years old.')"
   ]
  },
  {
   "cell_type": "markdown",
   "id": "7e2c6722",
   "metadata": {},
   "source": [
    "# 2**Favorite Hobbies**\n",
    "   - Create a list `favorite_hobbies` containing at least three hobbies as strings.\n",
    "   - Add another hobby to this list and print the updated list."
   ]
  },
  {
   "cell_type": "code",
   "execution_count": 3,
   "id": "f363e724",
   "metadata": {},
   "outputs": [
    {
     "name": "stdout",
     "output_type": "stream",
     "text": [
      "....Before adding.....\n",
      "['playing', 'reading', 'travelling']\n",
      ".....after adding.....\n",
      "['playing', 'reading', 'travelling', 'dancing']\n"
     ]
    }
   ],
   "source": [
    "my_hobb=['playing','reading','travelling']\n",
    "print('....Before adding.....')\n",
    "print(my_hobb)\n",
    "my_hobb.append('dancing')\n",
    "print('.....after adding.....')\n",
    "print(my_hobb)"
   ]
  },
  {
   "cell_type": "markdown",
   "id": "354ff220",
   "metadata": {},
   "source": [
    "# 3. **Screen Dimensions**\n",
    "   - Define a tuple `screen_dimensions` with two integers representing the width and height of the user's preferred screen size for the app.\n",
    "   - Attempt to modify one of the values in the tuple to simulate an attempt to change screen preferences and comment on the outcome."
   ]
  },
  {
   "cell_type": "code",
   "execution_count": 6,
   "id": "e21ca526",
   "metadata": {},
   "outputs": [
    {
     "ename": "AttributeError",
     "evalue": "'tuple' object has no attribute 'append'",
     "output_type": "error",
     "traceback": [
      "\u001b[1;31m---------------------------------------------------------------------------\u001b[0m",
      "\u001b[1;31mAttributeError\u001b[0m                            Traceback (most recent call last)",
      "\u001b[1;32mC:\\Users\\SHIVAG~1\\AppData\\Local\\Temp/ipykernel_16108/1782461567.py\u001b[0m in \u001b[0;36m<module>\u001b[1;34m\u001b[0m\n\u001b[0;32m      1\u001b[0m \u001b[0mscreen_dimensions\u001b[0m\u001b[1;33m=\u001b[0m\u001b[1;33m(\u001b[0m\u001b[1;36m25\u001b[0m\u001b[1;33m,\u001b[0m\u001b[1;36m25\u001b[0m\u001b[1;33m)\u001b[0m\u001b[1;33m\u001b[0m\u001b[1;33m\u001b[0m\u001b[0m\n\u001b[0;32m      2\u001b[0m \u001b[1;31m#screen_dimensions[0]=35 #tuple doesnot support item assignment\u001b[0m\u001b[1;33m\u001b[0m\u001b[1;33m\u001b[0m\u001b[1;33m\u001b[0m\u001b[0m\n\u001b[1;32m----> 3\u001b[1;33m \u001b[0mscreen_dimensions\u001b[0m\u001b[1;33m.\u001b[0m\u001b[0mappend\u001b[0m\u001b[1;33m(\u001b[0m\u001b[1;36m34\u001b[0m\u001b[1;33m)\u001b[0m\u001b[1;33m\u001b[0m\u001b[1;33m\u001b[0m\u001b[0m\n\u001b[0m",
      "\u001b[1;31mAttributeError\u001b[0m: 'tuple' object has no attribute 'append'"
     ]
    }
   ],
   "source": [
    "screen_dimensions=(25,25)\n",
    "screen_dimensions[0]=35 #tuple doesnot support item assignment obtained\n"
   ]
  },
  {
   "cell_type": "markdown",
   "id": "06ed7ddf",
   "metadata": {},
   "source": [
    "# 4. **Pet Description**\n",
    "   - Create a dictionary `pet` to describe the user's pet. It should include keys for `type`, `name`, `age`, and later, `color`.\n",
    "   - Add a `color` key to the `pet` dictionary with an appropriate value and print the pet's name and color."
   ]
  },
  {
   "cell_type": "code",
   "execution_count": 26,
   "id": "711479a8",
   "metadata": {},
   "outputs": [
    {
     "name": "stdout",
     "output_type": "stream",
     "text": [
      "....Before adding...\n",
      "type: dog\n",
      "nick_name: danger\n",
      "age: 5\n",
      "....After adding ....\n",
      "danger\n",
      "black\n"
     ]
    }
   ],
   "source": [
    "pet_diesc={\n",
    "    'type':'dog',\n",
    "    'nick_name':'danger',\n",
    "    'age': 5,\n",
    "}\n",
    "print('....Before adding...')\n",
    "{print(f'{key}: {value}')for key,value in pet_diesc.items()}\n",
    "\n",
    "print('....After adding ....')\n",
    "pet_diesc['Color']='black'\n",
    "print(pet_diesc['nick_name'])\n",
    "print(pet_diesc['Color'])"
   ]
  },
  {
   "cell_type": "markdown",
   "id": "ebe14a05",
   "metadata": {},
   "source": [
    "# 5. **Adult Status**\n",
    "   - Determine if the user is an adult with a boolean variable `is_adult`. Consider someone an adult if they are 18 years old or more.\n",
    "   - Using conditional logic, print `\"I am an adult.\"` if true, and `\"I am not an adult.\"` if false."
   ]
  },
  {
   "cell_type": "code",
   "execution_count": 29,
   "id": "b3163807",
   "metadata": {},
   "outputs": [
    {
     "name": "stdout",
     "output_type": "stream",
     "text": [
      "Enter your age: 18\n",
      "I am an adult.\n"
     ]
    }
   ],
   "source": [
    "age=int(input('Enter your age: '))\n",
    "\n",
    "is_adult=age>=18\n",
    "\n",
    "if is_adult:\n",
    "    print('I am an adult.')\n",
    "else:\n",
    "    print('I am not adult')"
   ]
  },
  {
   "cell_type": "code",
   "execution_count": null,
   "id": "bf3a570c",
   "metadata": {},
   "outputs": [],
   "source": []
  }
 ],
 "metadata": {
  "kernelspec": {
   "display_name": "Python 3 (ipykernel)",
   "language": "python",
   "name": "python3"
  },
  "language_info": {
   "codemirror_mode": {
    "name": "ipython",
    "version": 3
   },
   "file_extension": ".py",
   "mimetype": "text/x-python",
   "name": "python",
   "nbconvert_exporter": "python",
   "pygments_lexer": "ipython3",
   "version": "3.9.6"
  }
 },
 "nbformat": 4,
 "nbformat_minor": 5
}
